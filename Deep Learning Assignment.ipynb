{
 "cells": [
  {
   "cell_type": "markdown",
   "metadata": {
    "colab_type": "text",
    "id": "c8cCRYZEySBw"
   },
   "source": [
    "# **Import Libraries**"
   ]
  },
  {
   "cell_type": "code",
   "execution_count": 0,
   "metadata": {
    "colab": {},
    "colab_type": "code",
    "id": "kE0Z842gheC2"
   },
   "outputs": [],
   "source": [
    "import keras\n",
    "from keras.models import Sequential\n",
    "from keras.layers import Dense, Dropout, Flatten, Activation, Conv2D, MaxPooling2D, BatchNormalization\n",
    "from keras import backend as K\n",
    "import numpy as np\n",
    "import pickle\n",
    "import matplotlib.pyplot as plt\n",
    "from sklearn.model_selection import train_test_split\n",
    "from sklearn.metrics import classification_report, accuracy_score\n",
    "import cv2\n",
    "from google.colab.patches import cv2_imshow"
   ]
  },
  {
   "cell_type": "markdown",
   "metadata": {
    "colab_type": "text",
    "id": "MGbfAkWiyr7u"
   },
   "source": [
    "# Import Data"
   ]
  },
  {
   "cell_type": "code",
   "execution_count": 0,
   "metadata": {
    "colab": {},
    "colab_type": "code",
    "id": "1K86m3J7hkjW"
   },
   "outputs": [],
   "source": [
    "with open('trainX.pickle', 'rb') as f1:\n",
    "    trainX = pickle.load(f1)\n",
    "\n",
    "with open('trainY.pickle', 'rb') as f2:\n",
    "    trainY = pickle.load(f2)\n",
    "\n",
    "with open('testX.pickle', 'rb') as f3:\n",
    "    testX = pickle.load(f3)"
   ]
  },
  {
   "cell_type": "code",
   "execution_count": 322,
   "metadata": {
    "colab": {
     "base_uri": "https://localhost:8080/",
     "height": 68
    },
    "colab_type": "code",
    "id": "AH60TtnYyVsv",
    "outputId": "9570390f-e6eb-4c92-85fa-856340a92f0d"
   },
   "outputs": [
    {
     "name": "stdout",
     "output_type": "stream",
     "text": [
      "(60000, 28, 28)\n",
      "(60000,)\n",
      "(10000, 28, 28)\n"
     ]
    }
   ],
   "source": [
    "print(trainX.shape)\n",
    "print(trainY.shape)\n",
    "print(testX.shape)"
   ]
  },
  {
   "cell_type": "code",
   "execution_count": 323,
   "metadata": {
    "colab": {
     "base_uri": "https://localhost:8080/",
     "height": 34
    },
    "colab_type": "code",
    "id": "xJCtswo1H4_y",
    "outputId": "1136feaf-bdb2-46c4-ba84-d703f2ac88f8"
   },
   "outputs": [
    {
     "data": {
      "text/plain": [
       "'channels_last'"
      ]
     },
     "execution_count": 323,
     "metadata": {
      "tags": []
     },
     "output_type": "execute_result"
    }
   ],
   "source": [
    "K.image_data_format()"
   ]
  },
  {
   "cell_type": "code",
   "execution_count": 324,
   "metadata": {
    "colab": {
     "base_uri": "https://localhost:8080/",
     "height": 286
    },
    "colab_type": "code",
    "id": "SKcRD_wWO09A",
    "outputId": "3d0142f2-a999-4c76-afd9-821f53f1428d"
   },
   "outputs": [
    {
     "data": {
      "text/plain": [
       "<matplotlib.image.AxesImage at 0x7f0651725b00>"
      ]
     },
     "execution_count": 324,
     "metadata": {
      "tags": []
     },
     "output_type": "execute_result"
    },
    {
     "data": {
      "image/png": "[encoded data removed]",
      "text/plain": [
       "<Figure size 432x288 with 1 Axes>"
      ]
     },
     "metadata": {
      "tags": []
     },
     "output_type": "display_data"
    }
   ],
   "source": [
    "plt.imshow(trainX[50,:].reshape((28,28)))"
   ]
  },
  {
   "cell_type": "markdown",
   "metadata": {
    "colab_type": "text",
    "id": "kqmq9qQqy1t6"
   },
   "source": [
    "# Split into testing and training data"
   ]
  },
  {
   "cell_type": "code",
   "execution_count": 0,
   "metadata": {
    "colab": {},
    "colab_type": "code",
    "id": "qdbLFk6fhsql"
   },
   "outputs": [],
   "source": [
    "trainX, test_X, trainY, test_Y = train_test_split(trainX, trainY, test_size=0.15, random_state=42)"
   ]
  },
  {
   "cell_type": "code",
   "execution_count": 326,
   "metadata": {
    "colab": {
     "base_uri": "https://localhost:8080/",
     "height": 85
    },
    "colab_type": "code",
    "id": "qdFr5nOZA2cy",
    "outputId": "c65a1f0e-c043-4270-ab74-bb6950c83af7"
   },
   "outputs": [
    {
     "name": "stdout",
     "output_type": "stream",
     "text": [
      "(51000, 28, 28)\n",
      "(51000,)\n",
      "(9000, 28, 28)\n",
      "(9000,)\n"
     ]
    }
   ],
   "source": [
    "print(trainX.shape)\n",
    "print(trainY.shape)\n",
    "print(test_X.shape)\n",
    "print(test_Y.shape)"
   ]
  },
  {
   "cell_type": "markdown",
   "metadata": {
    "colab_type": "text",
    "id": "axDGsiJ8zC9l"
   },
   "source": [
    "# Reshaping Data"
   ]
  },
  {
   "cell_type": "code",
   "execution_count": 0,
   "metadata": {
    "colab": {},
    "colab_type": "code",
    "id": "G7HiZWGUIkYZ"
   },
   "outputs": [],
   "source": [
    "im_shape = (28,28,1)\n",
    "trainX = trainX.reshape((trainX.shape[0], 28, 28, 1))\n",
    "test_X = test_X.reshape((test_X.shape[0], 28, 28, 1))\n",
    "testX = testX.reshape((testX.shape[0], 28, 28, 1))\n",
    "\n",
    "trainX = trainX.astype(\"float32\") / 255.0\n",
    "test_X = test_X.astype(\"float32\") / 255.0\n",
    "testX = testX.astype(\"float32\") / 255.0"
   ]
  },
  {
   "cell_type": "markdown",
   "metadata": {
    "colab_type": "text",
    "id": "CAJ9zaNNzLXy"
   },
   "source": [
    "# Handling categorical values"
   ]
  },
  {
   "cell_type": "code",
   "execution_count": 0,
   "metadata": {
    "colab": {},
    "colab_type": "code",
    "id": "CwSXdgTsI9Uf"
   },
   "outputs": [],
   "source": [
    "trainY = keras.utils.to_categorical(trainY, 10)\n",
    "test_Y = keras.utils.to_categorical(test_Y, 10)"
   ]
  },
  {
   "cell_type": "markdown",
   "metadata": {
    "colab_type": "text",
    "id": "Kgw07pZfzZTa"
   },
   "source": [
    "# Model"
   ]
  },
  {
   "cell_type": "code",
   "execution_count": 0,
   "metadata": {
    "colab": {},
    "colab_type": "code",
    "id": "XOFhXjNcJdD_"
   },
   "outputs": [],
   "source": [
    "model = Sequential()\n",
    "\n",
    "\n",
    "model.add(Conv2D(32, (3, 3), padding=\"same\",\n",
    "input_shape=im_shape))\n",
    "model.add(Activation(\"relu\"))\n",
    "model.add(BatchNormalization(axis=-1))\n",
    "model.add(Conv2D(32, (3, 3), padding=\"same\"))\n",
    "model.add(Activation(\"relu\"))\n",
    "model.add(BatchNormalization(axis=-1))\n",
    "model.add(MaxPooling2D(pool_size=(2, 2)))\n",
    "model.add(Dropout(0.25))\n",
    "\n",
    "model.add(Conv2D(64, (3, 3), padding=\"same\"))\n",
    "model.add(Activation(\"relu\"))\n",
    "model.add(BatchNormalization(axis=-1))\n",
    "model.add(Conv2D(64, (3, 3), padding=\"same\"))\n",
    "model.add(Activation(\"relu\"))\n",
    "model.add(BatchNormalization(axis=-1))\n",
    "model.add(MaxPooling2D(pool_size=(2, 2)))\n",
    "model.add(Dropout(0.25))\n",
    "\n",
    "model.add(Flatten())\n",
    "model.add(Dense(512))\n",
    "model.add(Activation(\"relu\"))\n",
    "model.add(BatchNormalization())\n",
    "model.add(Dropout(0.5))\n",
    "\n",
    "model.add(Dense(10))\n",
    "model.add(Activation(\"softmax\"))\n",
    "\n",
    "model.compile(loss=\"categorical_crossentropy\", optimizer='adam', metrics=[\"accuracy\"])"
   ]
  },
  {
   "cell_type": "code",
   "execution_count": 330,
   "metadata": {
    "colab": {
     "base_uri": "https://localhost:8080/",
     "height": 374
    },
    "colab_type": "code",
    "id": "jYxxoRv-K5RB",
    "outputId": "d9d5bcca-60d1-411e-8765-2c97ec63bb02"
   },
   "outputs": [
    {
     "name": "stdout",
     "output_type": "stream",
     "text": [
      "Train on 51000 samples, validate on 9000 samples\n",
      "Epoch 1/10\n",
      "51000/51000 [==============================] - 12s 235us/step - loss: 0.4846 - acc: 0.8349 - val_loss: 0.2959 - val_acc: 0.8918\n",
      "Epoch 2/10\n",
      "51000/51000 [==============================] - 8s 150us/step - loss: 0.3064 - acc: 0.8906 - val_loss: 0.2619 - val_acc: 0.9038\n",
      "Epoch 3/10\n",
      "51000/51000 [==============================] - 8s 150us/step - loss: 0.2578 - acc: 0.9090 - val_loss: 0.2337 - val_acc: 0.9149\n",
      "Epoch 4/10\n",
      "51000/51000 [==============================] - 8s 149us/step - loss: 0.2362 - acc: 0.9137 - val_loss: 0.2254 - val_acc: 0.9169\n",
      "Epoch 5/10\n",
      "51000/51000 [==============================] - 8s 149us/step - loss: 0.2186 - acc: 0.9190 - val_loss: 0.2107 - val_acc: 0.9222\n",
      "Epoch 6/10\n",
      "51000/51000 [==============================] - 8s 149us/step - loss: 0.2044 - acc: 0.9256 - val_loss: 0.2095 - val_acc: 0.9240\n",
      "Epoch 7/10\n",
      "51000/51000 [==============================] - 8s 148us/step - loss: 0.1916 - acc: 0.9295 - val_loss: 0.2045 - val_acc: 0.9276\n",
      "Epoch 8/10\n",
      "51000/51000 [==============================] - 8s 149us/step - loss: 0.1818 - acc: 0.9331 - val_loss: 0.2319 - val_acc: 0.9199\n",
      "Epoch 9/10\n",
      "51000/51000 [==============================] - 8s 149us/step - loss: 0.1737 - acc: 0.9356 - val_loss: 0.2021 - val_acc: 0.9267\n",
      "Epoch 10/10\n",
      "51000/51000 [==============================] - 8s 149us/step - loss: 0.1662 - acc: 0.9381 - val_loss: 0.1890 - val_acc: 0.9312\n"
     ]
    }
   ],
   "source": [
    "H = model.fit(trainX, trainY, validation_data=(test_X, test_Y), batch_size=128, epochs=10)"
   ]
  },
  {
   "cell_type": "code",
   "execution_count": 331,
   "metadata": {
    "colab": {
     "base_uri": "https://localhost:8080/",
     "height": 323
    },
    "colab_type": "code",
    "id": "xFPGP3OfQXcg",
    "outputId": "3d0a85b6-ff13-499a-a37a-6b9c0c914ac1"
   },
   "outputs": [
    {
     "name": "stdout",
     "output_type": "stream",
     "text": [
      "[INFO] evaluating network...\n",
      "              precision    recall  f1-score   support\n",
      "\n",
      "           0       0.92      0.85      0.88       899\n",
      "           1       0.99      0.99      0.99       906\n",
      "           2       0.86      0.94      0.90       901\n",
      "           3       0.94      0.92      0.93       905\n",
      "           4       0.88      0.89      0.88       924\n",
      "           5       0.99      0.99      0.99       916\n",
      "           6       0.82      0.82      0.82       925\n",
      "           7       0.96      0.97      0.97       830\n",
      "           8       0.99      0.99      0.99       905\n",
      "           9       0.97      0.97      0.97       889\n",
      "\n",
      "    accuracy                           0.93      9000\n",
      "   macro avg       0.93      0.93      0.93      9000\n",
      "weighted avg       0.93      0.93      0.93      9000\n",
      "\n"
     ]
    }
   ],
   "source": [
    "preds = model.predict(test_X)\n",
    " \n",
    "print(\"[INFO] evaluating network...\")\n",
    "print(classification_report(test_Y.argmax(axis=1), preds.argmax(axis=1)))"
   ]
  },
  {
   "cell_type": "markdown",
   "metadata": {
    "colab_type": "text",
    "id": "qbm_ucwjBoGX"
   },
   "source": [
    "# Plotting Loss against Accuracy"
   ]
  },
  {
   "cell_type": "code",
   "execution_count": 332,
   "metadata": {
    "colab": {
     "base_uri": "https://localhost:8080/",
     "height": 479
    },
    "colab_type": "code",
    "id": "-ryfOkDyQXhU",
    "outputId": "844e88e2-9166-408f-a11c-94ec53bb8bda"
   },
   "outputs": [
    {
     "data": {
      "text/plain": [
       "<matplotlib.legend.Legend at 0x7f065050ee48>"
      ]
     },
     "execution_count": 332,
     "metadata": {
      "tags": []
     },
     "output_type": "execute_result"
    },
    {
     "data": {
      "image/png": "[encoded data removed]",
      "text/plain": [
       "<Figure size 792x504 with 1 Axes>"
      ]
     },
     "metadata": {
      "tags": []
     },
     "output_type": "display_data"
    }
   ],
   "source": [
    "N = 10\n",
    "plt.style.use(\"ggplot\")\n",
    "plt.figure(figsize=(11,7))\n",
    "plt.plot(np.arange(0, N), H.history[\"loss\"], label=\"train_loss\")\n",
    "plt.plot(np.arange(0, N), H.history[\"val_loss\"], label=\"val_loss\")\n",
    "plt.plot(np.arange(0, N), H.history[\"acc\"], label=\"train_acc\")\n",
    "plt.plot(np.arange(0, N), H.history[\"val_acc\"], label=\"val_acc\")\n",
    "plt.title(\"Training Loss and Accuracy on Dataset\")\n",
    "plt.xlabel(\"Epoch\")\n",
    "plt.ylabel(\"Loss/Accuracy\")\n",
    "plt.legend(loc=\"best\")"
   ]
  }
 ],
 "metadata": {
  "accelerator": "GPU",
  "colab": {
   "collapsed_sections": [],
   "name": "DL Assignment.ipynb",
   "provenance": [],
   "version": "0.3.2"
  },
  "kernelspec": {
   "display_name": "Python 3",
   "language": "python",
   "name": "python3"
  },
  "language_info": {
   "codemirror_mode": {
    "name": "ipython",
    "version": 3
   },
   "file_extension": ".py",
   "mimetype": "text/x-python",
   "name": "python",
   "nbconvert_exporter": "python",
   "pygments_lexer": "ipython3",
   "version": "3.7.3"
  }
 },
 "nbformat": 4,
 "nbformat_minor": 1
}
